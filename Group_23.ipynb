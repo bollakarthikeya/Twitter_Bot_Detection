{
 "cells": [
  {
   "cell_type": "markdown",
   "metadata": {},
   "source": [
    "# <img style=\"float: left; padding-right: 10px; width: 45px\" src=\"twitter.png\"> Machine Learning & Analysis for Twitter Bot Detection\n",
    "\n",
    "## Project Report\n",
    "\n",
    "\n",
    "**Group 23**<br/>\n",
    "**Karthikeya Bolla, Zareh Vasquez**\n",
    "\n",
    "<hr style=\"height:2pt\">\n",
    "\n"
   ]
  },
  {
   "cell_type": "code",
   "execution_count": 2,
   "metadata": {},
   "outputs": [
    {
     "data": {
      "text/html": [
       "<style>\n",
       "h1 { \n",
       "    padding-top: 25px;\n",
       "    padding-bottom: 25px;\n",
       "    text-align: left; \n",
       "    padding-left: 10px;\n",
       "    background-color: #DDDDDD; \n",
       "    color: black;\n",
       "}\n",
       "div.exercise {\n",
       "\tbackground-color: #ffcccc;\n",
       "\tborder-color: #E9967A; \t\n",
       "\tborder-left: 5px solid #800080; \n",
       "\tpadding: 0.5em;\n",
       "}\n",
       "div.theme {\n",
       "\tbackground-color: #DDDDDD;\n",
       "\tborder-color: #E9967A; \t\n",
       "\tborder-left: 5px solid #800080; \n",
       "\tpadding: 0.5em;\n",
       "\tfont-size: 18pt;\n",
       "}\n",
       "p.q1 { \n",
       "    padding-top: 5px;\n",
       "    padding-bottom: 5px;\n",
       "    text-align: left; \n",
       "    padding-left: 5px;\n",
       "    background-color: #EEEEEE; \n",
       "    color: black;\n",
       "}\n",
       "header {\n",
       "   padding-top: 35px;\n",
       "    padding-bottom: 35px;\n",
       "    text-align: left; \n",
       "    padding-left: 10px;\n",
       "    background-color: #DDDDDD; \n",
       "    color: black;\n",
       "}\n",
       "</style>\n",
       "\n"
      ],
      "text/plain": [
       "<IPython.core.display.HTML object>"
      ]
     },
     "execution_count": 2,
     "metadata": {},
     "output_type": "execute_result"
    }
   ],
   "source": [
    "from IPython.core.display import HTML\n",
    "def css_styling(): styles = open(\"cs109.css\", \"r\").read(); return HTML(styles)\n",
    "css_styling()"
   ]
  },
  {
   "cell_type": "markdown",
   "metadata": {},
   "source": [
    "# Introduction"
   ]
  },
  {
   "cell_type": "markdown",
   "metadata": {},
   "source": [
    "**Twitter** is an online social networking service that allows users to post 140 character messages known as **_tweets_**. It is one of the top ten visited websites in the world with a total of 319 million monthly active users [1]. To interact and access this high magnitude of content, Twitter provides REST and Streaming APIs that enables free access to several endpoints [2]. One of the advantages of using Twitter API is, users can control their Twitter accounts with automated software programs called **Twitter Bots**. These bots are software programs that autonomously tweet, retweet, like and perform other tweet related actions. Software Developers developing these bots should adhere to automation rules [3] set by Twitter. <br><br>\n",
    "With the advent of automation and need to constantly share information, bots became a necessity to reduce human intervention and effort. In the era of information, understanding the behavior of bots has been an area of interest to academics because of the positive and negative influence cast by bot activity. One of the most recent examples of bot abuse is the Russian interference in U.S. 2016 presidential elections. Spreading fake news using Twitter bots has changed the outcome of elections [4]. Considering these facts, it is necessary to identify bots in Twitter space and understand how bot activity differs from that of humans. The project emphasizes on detecting bots using Machine Learning techniques"
   ]
  },
  {
   "cell_type": "markdown",
   "metadata": {},
   "source": [
    "### Importing necessary libraries "
   ]
  },
  {
   "cell_type": "code",
   "execution_count": 4,
   "metadata": {},
   "outputs": [],
   "source": [
    "from matplotlib import pyplot as plt\n",
    "import pandas as pd\n",
    "import numpy as np\n",
    "import seaborn as sns\n",
    "import json\n",
    "import nltk\n",
    "import string\n",
    "import os\n",
    "import re\n",
    "from sklearn.decomposition import PCA\n",
    "from sklearn.ensemble import RandomForestClassifier\n",
    "from sklearn.model_selection import KFold\n",
    "from sklearn.model_selection import validation_curve\n",
    "from sklearn.linear_model import LogisticRegressionCV\n",
    "from sklearn.linear_model import LogisticRegression\n",
    "from sklearn.ensemble import AdaBoostClassifier\n",
    "from sklearn.metrics import accuracy_score\n",
    "from nltk.corpus import stopwords\n",
    "from nltk.stem.wordnet import WordNetLemmatizer\n",
    "from nltk import pos_tag, word_tokenize\n",
    "from sklearn.feature_extraction.text import TfidfVectorizer\n",
    "from sklearn.decomposition import LatentDirichletAllocation\n",
    "%matplotlib inline"
   ]
  },
  {
   "cell_type": "markdown",
   "metadata": {},
   "source": [
    "# Data! Data! Data!"
   ]
  },
  {
   "cell_type": "markdown",
   "metadata": {},
   "source": [
    "### Dataset\n",
    "Dataset was mined from Twitter using Twitter's Search API and **_tweepy_**, Python library for accessing Twitter API. Data mined is stored as **JSON (JavaScript Object Notation)** file. Note that details concerning mining Twitter for data are not presented here as it is out of scope.  \n"
   ]
  },
  {
   "cell_type": "code",
   "execution_count": 5,
   "metadata": {},
   "outputs": [],
   "source": [
    "# read JSON file\n",
    "filepath = os.getcwd()\n",
    "df = pd.read_json(filepath + '/data/real_tweets.json', orient = 'columns')"
   ]
  },
  {
   "cell_type": "markdown",
   "metadata": {},
   "source": [
    "#### Describing the data"
   ]
  },
  {
   "cell_type": "code",
   "execution_count": 12,
   "metadata": {},
   "outputs": [
    {
     "name": "stdout",
     "output_type": "stream",
     "text": [
      "Dataset Shape:  (42723, 64) \n",
      "\n",
      "Columns in dataset:  Index(['bot', 'contributors', 'coordinates', 'created_at', 'favorite_count',\n",
      "       'favorited', 'geo', 'id', 'id_str', 'in_reply_to_screen_name',\n",
      "       'in_reply_to_status_id', 'in_reply_to_status_id_str',\n",
      "       'in_reply_to_user_id', 'in_reply_to_user_id_str', 'is_quote_status',\n",
      "       'lang', 'place', 'possibly_sensitive', 'quoted_status',\n",
      "       'quoted_status_id', 'quoted_status_id_str', 'retweet_count',\n",
      "       'retweeted', 'retweeted_status', 'source', 'text', 'truncated',\n",
      "       'user_contributors_enabled', 'user_created_at', 'user_default_profile',\n",
      "       'user_default_profile_image', 'user_description',\n",
      "       'user_favourites_count', 'user_follow_request_sent',\n",
      "       'user_followers_count', 'user_following', 'user_friends_count',\n",
      "       'user_geo_enabled', 'user_has_extended_profile', 'user_id',\n",
      "       'user_id_str', 'user_is_translation_enabled', 'user_is_translator',\n",
      "       'user_lang', 'user_listed_count', 'user_location', 'user_name',\n",
      "       'user_notifications', 'user_profile_background_color',\n",
      "       'user_profile_background_tile', 'user_profile_link_color',\n",
      "       'user_profile_sidebar_border_color', 'user_profile_sidebar_fill_color',\n",
      "       'user_profile_text_color', 'user_profile_use_background_image',\n",
      "       'user_protected', 'user_screen_name', 'user_statuses_count',\n",
      "       'user_time_zone', 'user_translator_type', 'user_url', 'user_utc_offset',\n",
      "       'user_verified', 'withheld_in_countries'],\n",
      "      dtype='object')\n"
     ]
    }
   ],
   "source": [
    "print('Dataset Shape: ', df.shape, '\\n')\n",
    "print('Columns in dataset: ', df.columns)"
   ]
  },
  {
   "cell_type": "markdown",
   "metadata": {},
   "source": [
    "Every record in the dataset is composed of 63 attributes. We have added one extra attribute titled **'bot'** which isolates human accounts' tweets from bot accounts' tweets. The attribute takes a value **1** for tweets arising from bot accounts and value **0** for tweets belonging to human accounts. Therefore, attribute **'bot'** can be seen as **_binary_** class variable. <br>\n",
    "\n",
    "Detailed analysis of tweet data showed that the tweet related attributes carry information about **tweet** and the twitter account attributes carry information about the account, be it user or bot. Therefore these 63 attributes can be seperated into two classes; attributes describing twitter account properties and attributes describing tweet properties. Among the 63 attributes, the ones mentioned in below code are of particular interest. Note that the attributes of interest are seperated into two categories; attributes describing tweets and attributes describing accounts (again, accounts here are both bot and human accounts). <br>"
   ]
  },
  {
   "cell_type": "code",
   "execution_count": 21,
   "metadata": {},
   "outputs": [],
   "source": [
    "# create a final processed dataframe using columns of interest    \n",
    "# isolate columns that are of interest concerning 'tweet' made\n",
    "tweet_cols_interest = ['bot',\n",
    "                       'created_at',\n",
    "                       'favorite_count',\n",
    "                       'favorited',\n",
    "                       'retweet_count',\n",
    "                       'retweeted',\n",
    "                       'source',\n",
    "                       'text']\n",
    "\n",
    "# isolate columns that are of interest concerning 'user'\n",
    "user_cols_interest = ['bot',\n",
    "                      'user_favourites_count',\n",
    "                      'user_followers_count',\n",
    "                      'user_friends_count',\n",
    "                      'user_id_str',\n",
    "                      'user_listed_count',\n",
    "                      'user_screen_name',\n",
    "                      'user_statuses_count',\n",
    "                      'user_verified']"
   ]
  },
  {
   "cell_type": "markdown",
   "metadata": {},
   "source": [
    "We have created two dataframes based off of account attributes and tweet attributes. These will be analyzed seperately.\n",
    "1. Account attributes will be used to perform Bot vs. Human Classification, and\n",
    "2. Tweet attributes will be used to perform Topic Modelling using Natural Language Processing"
   ]
  },
  {
   "cell_type": "code",
   "execution_count": 22,
   "metadata": {},
   "outputs": [],
   "source": [
    "# tweet attributes' dataframe\n",
    "df_tweet = df[tweet_cols_interest].copy(deep = True)\n",
    "\n",
    "# user account attributes' dataframe\n",
    "df_user = df[user_cols_interest].copy(deep = True)"
   ]
  },
  {
   "cell_type": "markdown",
   "metadata": {},
   "source": [
    "### Data Processing"
   ]
  },
  {
   "cell_type": "markdown",
   "metadata": {},
   "source": [
    "During data gathering process, we gathered $(approx.)$ 100 tweets associated with 164 bot accounts and 705 human accounts. A total of 42723 tweets were gathered. Note that not all accounts had 100 tweets."
   ]
  },
  {
   "cell_type": "markdown",
   "metadata": {},
   "source": [
    "As mentioned above, we will be using account related attributes (highlighted below) to perform bot vs. human classification. Dataset using the following (account related) attributes is shown below\n",
    "1. 'bot',\n",
    "2. 'user_favourites_count',\n",
    "3. 'user_followers_count',\n",
    "4. 'user_friends_count',\n",
    "5. 'user_id_str',\n",
    "6. 'user_listed_count',\n",
    "7. 'user_screen_name',\n",
    "8. 'user_statuses_count',\n",
    "9. 'user_verified' "
   ]
  },
  {
   "cell_type": "code",
   "execution_count": 19,
   "metadata": {},
   "outputs": [
    {
     "data": {
      "text/html": [
       "<div>\n",
       "<style scoped>\n",
       "    .dataframe tbody tr th:only-of-type {\n",
       "        vertical-align: middle;\n",
       "    }\n",
       "\n",
       "    .dataframe tbody tr th {\n",
       "        vertical-align: top;\n",
       "    }\n",
       "\n",
       "    .dataframe thead th {\n",
       "        text-align: right;\n",
       "    }\n",
       "</style>\n",
       "<table border=\"1\" class=\"dataframe\">\n",
       "  <thead>\n",
       "    <tr style=\"text-align: right;\">\n",
       "      <th></th>\n",
       "      <th>bot</th>\n",
       "      <th>user_favourites_count</th>\n",
       "      <th>user_followers_count</th>\n",
       "      <th>user_friends_count</th>\n",
       "      <th>user_id_str</th>\n",
       "      <th>user_listed_count</th>\n",
       "      <th>user_screen_name</th>\n",
       "      <th>user_statuses_count</th>\n",
       "      <th>user_verified</th>\n",
       "    </tr>\n",
       "  </thead>\n",
       "  <tbody>\n",
       "    <tr>\n",
       "      <th>0</th>\n",
       "      <td>1</td>\n",
       "      <td>11024</td>\n",
       "      <td>553243</td>\n",
       "      <td>334</td>\n",
       "      <td>105719173</td>\n",
       "      <td>126</td>\n",
       "      <td>iconnnz</td>\n",
       "      <td>200224</td>\n",
       "      <td>False</td>\n",
       "    </tr>\n",
       "    <tr>\n",
       "      <th>1</th>\n",
       "      <td>1</td>\n",
       "      <td>11024</td>\n",
       "      <td>553243</td>\n",
       "      <td>334</td>\n",
       "      <td>105719173</td>\n",
       "      <td>126</td>\n",
       "      <td>iconnnz</td>\n",
       "      <td>200224</td>\n",
       "      <td>False</td>\n",
       "    </tr>\n",
       "    <tr>\n",
       "      <th>2</th>\n",
       "      <td>1</td>\n",
       "      <td>11024</td>\n",
       "      <td>553243</td>\n",
       "      <td>334</td>\n",
       "      <td>105719173</td>\n",
       "      <td>126</td>\n",
       "      <td>iconnnz</td>\n",
       "      <td>200224</td>\n",
       "      <td>False</td>\n",
       "    </tr>\n",
       "    <tr>\n",
       "      <th>3</th>\n",
       "      <td>1</td>\n",
       "      <td>11024</td>\n",
       "      <td>553243</td>\n",
       "      <td>334</td>\n",
       "      <td>105719173</td>\n",
       "      <td>126</td>\n",
       "      <td>iconnnz</td>\n",
       "      <td>200224</td>\n",
       "      <td>False</td>\n",
       "    </tr>\n",
       "    <tr>\n",
       "      <th>4</th>\n",
       "      <td>1</td>\n",
       "      <td>11024</td>\n",
       "      <td>553243</td>\n",
       "      <td>334</td>\n",
       "      <td>105719173</td>\n",
       "      <td>126</td>\n",
       "      <td>iconnnz</td>\n",
       "      <td>200224</td>\n",
       "      <td>False</td>\n",
       "    </tr>\n",
       "  </tbody>\n",
       "</table>\n",
       "</div>"
      ],
      "text/plain": [
       "   bot  user_favourites_count  user_followers_count  user_friends_count  \\\n",
       "0    1                  11024                553243                 334   \n",
       "1    1                  11024                553243                 334   \n",
       "2    1                  11024                553243                 334   \n",
       "3    1                  11024                553243                 334   \n",
       "4    1                  11024                553243                 334   \n",
       "\n",
       "   user_id_str  user_listed_count user_screen_name  user_statuses_count  \\\n",
       "0    105719173                126          iconnnz               200224   \n",
       "1    105719173                126          iconnnz               200224   \n",
       "2    105719173                126          iconnnz               200224   \n",
       "3    105719173                126          iconnnz               200224   \n",
       "4    105719173                126          iconnnz               200224   \n",
       "\n",
       "   user_verified  \n",
       "0          False  \n",
       "1          False  \n",
       "2          False  \n",
       "3          False  \n",
       "4          False  "
      ]
     },
     "execution_count": 19,
     "metadata": {},
     "output_type": "execute_result"
    }
   ],
   "source": [
    "print(df_user.head())\n",
    "print()"
   ]
  },
  {
   "cell_type": "markdown",
   "metadata": {},
   "source": [
    "There are redundancies $(approx.)$ every 100 records. It is so because, these attributes correspond to accounts and every record represents individual tweet and 100 tweets are gathered for every account. Thus for a count of 100 recursively, tweet attributes are different but account attributes are repeating as tweets belong tothe same account. <br><br>\n",
    "Upon removing redundancies, the dataset looks as"
   ]
  },
  {
   "cell_type": "code",
   "execution_count": 25,
   "metadata": {},
   "outputs": [
    {
     "name": "stdout",
     "output_type": "stream",
     "text": [
      "(869, 9)\n"
     ]
    }
   ],
   "source": [
    "# account related dataframe (a.k.a) user related dataframe is now composed of duplicates.\n",
    "# removing duplicates\n",
    "df_user = df_user.drop_duplicates()\n",
    "print(df_user.shape)"
   ]
  },
  {
   "cell_type": "markdown",
   "metadata": {},
   "source": [
    "After removing redundant attributes we are left with a total of 869 unique records indicating that the dataset is gathered by searching 100 tweets for every user along these 869 account users."
   ]
  },
  {
   "cell_type": "markdown",
   "metadata": {},
   "source": [
    "Class attribute **bot** which previously contained binary labels **1**s and **0**s is now converted to $String$ datatype using _**yes**_ and _**no**_."
   ]
  },
  {
   "cell_type": "code",
   "execution_count": 27,
   "metadata": {},
   "outputs": [],
   "source": [
    "# modifying values in 'bot' column to 'yes' and 'no'\n",
    "df_user.loc[df_user.bot == 1, 'bot'] = 'yes'\n",
    "df_user.loc[df_user.bot == 0, 'bot'] = 'no'"
   ]
  },
  {
   "cell_type": "markdown",
   "metadata": {},
   "source": [
    "As there are 164 records corresponding to bots and 705 corresponsding to humans, we need to sample he data equally so as to prevent _**Class-Imbalance Problem**_."
   ]
  },
  {
   "cell_type": "code",
   "execution_count": 31,
   "metadata": {},
   "outputs": [
    {
     "name": "stdout",
     "output_type": "stream",
     "text": [
      "Number of Bot accounts gathered:  164\n",
      "Number of Human accounts gathered:  705\n"
     ]
    }
   ],
   "source": [
    "# distribution of bots and humans\n",
    "nBots = df_user[df_user['bot'] == 'yes'].shape[0]\n",
    "nHumans = df_user[df_user['bot'] == 'no'].shape[0]\n",
    "\n",
    "print('Number of Bot accounts gathered: ', nBots)\n",
    "print('Number of Human accounts gathered: ', nHumans)"
   ]
  },
  {
   "cell_type": "code",
   "execution_count": 37,
   "metadata": {},
   "outputs": [
    {
     "name": "stdout",
     "output_type": "stream",
     "text": [
      "Number of Bot accounts sampled:  164\n",
      "Number of Human accounts sampled:  164\n"
     ]
    }
   ],
   "source": [
    "# Due to class-imbalance problem i.e. nBots < nHumans, \n",
    "# data is sampled equally for number of bots and humans\n",
    "df_user_bots = df_user[df_user['bot'] == 'yes'].reset_index(drop = True)\n",
    "df_user_humans = df_user[df_user['bot'] == 'no'].reset_index(drop = True)\n",
    "\n",
    "# shuffle the data and sample first 164 records; the size of df_user_bots\n",
    "df_user_humans = df_user_humans.sample(frac = 1, random_state = 12345).reset_index(drop = True)\n",
    "df_user_humans = df_user_humans.iloc[np.arange(df_user_bots.shape[0])]\n",
    "\n",
    "print('Number of Bot accounts sampled: ', df_user_bots.shape[0])\n",
    "print('Number of Human accounts sampled: ', df_user_humans.shape[0])"
   ]
  },
  {
   "cell_type": "markdown",
   "metadata": {},
   "source": [
    "Create a master dataset combining records concerning bots and humans"
   ]
  },
  {
   "cell_type": "code",
   "execution_count": 34,
   "metadata": {},
   "outputs": [],
   "source": [
    "# combining bots and humans dataset to create master dataset\n",
    "df_master = pd.concat([df_user_bots, df_user_humans])\n",
    "df_master = df_master.sample(frac = 1, random_state = 12345).reset_index(drop = True)"
   ]
  },
  {
   "cell_type": "markdown",
   "metadata": {},
   "source": [
    "### Test-Train Split"
   ]
  },
  {
   "cell_type": "markdown",
   "metadata": {},
   "source": [
    "Split the dataset using 80 - 20 rule."
   ]
  },
  {
   "cell_type": "code",
   "execution_count": 36,
   "metadata": {},
   "outputs": [],
   "source": [
    "# creating test-train split\n",
    "nRows, nCols = df_master.shape\n",
    "idx = np.arange(nRows)\n",
    "np.random.seed(12345)\n",
    "np.random.shuffle(idx) \n",
    "train_idx, test_idx = idx[ : int(0.8 * nRows)], idx[int(0.8 * nRows) : ]\n",
    "train, test = df_master.iloc[train_idx].reset_index(drop = True), df_master.loc[test_idx].reset_index(drop = True)\n",
    "\n",
    "# Selecting necessary columns for modelling\n",
    "cols_not_needed = ['user_id_str', 'user_screen_name']\n",
    "train_modified = train.drop(cols_not_needed, axis = 1)\n",
    "test_modified = test.drop(cols_not_needed, axis = 1)\n",
    " \n",
    "# convert 'user_verified' from 'bool' to 'binary (int64)' valued attribute\n",
    "train_modified['user_verified'] = train_modified['user_verified'].astype(int)\n",
    "test_modified['user_verified'] = test_modified['user_verified'].astype(int)\n",
    "\n",
    "# Ready the dataset\n",
    "X_train, y_train = train_modified.copy(deep = True), pd.DataFrame(train_modified['bot'], columns = ['bot'])\n",
    "X_test, y_test = test_modified.copy(deep = True), pd.DataFrame(test_modified['bot'], columns = ['bot'])\n",
    "del X_train['bot']\n",
    "del X_test['bot']"
   ]
  },
  {
   "cell_type": "markdown",
   "metadata": {},
   "source": [
    "### Scale the dataset - Standardization"
   ]
  },
  {
   "cell_type": "code",
   "execution_count": 40,
   "metadata": {},
   "outputs": [
    {
     "name": "stdout",
     "output_type": "stream",
     "text": [
      "Training Data: (262, 6)\n",
      "Test Data: (66, 6)\n"
     ]
    }
   ],
   "source": [
    "# standardization\n",
    "train_means = np.mean(X_train, axis = 0)\n",
    "train_std = np.std(X_train, axis = 0)\n",
    "X_train = (X_train - train_means) / train_std\n",
    "X_test = (X_test - train_means) / train_std\n",
    "\n",
    "print('Training Data:', X_train.shape)\n",
    "print('Test Data:', X_test.shape)"
   ]
  },
  {
   "cell_type": "markdown",
   "metadata": {},
   "source": [
    "# Principal Component Analysis"
   ]
  },
  {
   "cell_type": "markdown",
   "metadata": {},
   "source": [
    "The dataset is not $2D$ or $3D$ and hence visualization is tough. Let's check if dimensionality reduction is possible so as to reduce the number of attributes for better visualization and model interpretation."
   ]
  },
  {
   "cell_type": "code",
   "execution_count": 41,
   "metadata": {},
   "outputs": [
    {
     "name": "stdout",
     "output_type": "stream",
     "text": [
      "Variance explained by principal components: [0.33603229 0.22124037 0.15989878 0.15371146 0.10381693 0.02530017]\n"
     ]
    },
    {
     "data": {
      "image/png": "[encoded data removed]",
      "text/plain": [
       "<Figure size 432x288 with 2 Axes>"
      ]
     },
     "metadata": {},
     "output_type": "display_data"
    }
   ],
   "source": [
    "# Principal Component Analysis\n",
    "\n",
    "# compute correlation matrix\n",
    "corr_matrix = np.cov(X_train.T)\n",
    "\n",
    "# upper-triangular matrix mask\n",
    "mask = np.zeros_like(corr_matrix, dtype = np.bool)\n",
    "\n",
    "# color mamp palette\n",
    "cus_map = sns.diverging_palette(220, 10, as_cmap = True)\n",
    "\n",
    "# drawing the heatmap\n",
    "sns.heatmap(corr_matrix, \n",
    "            mask = mask, \n",
    "            cmap = cus_map, \n",
    "            vmax = 1.0, \n",
    "            center = 0,\n",
    "            vmin = -1.0,\n",
    "            square = True,\n",
    "            xticklabels = list(X_train.columns),\n",
    "            yticklabels = list(X_train.columns),\n",
    "            linewidths = 0.5,\n",
    "            cbar_kws = {'shrink' : 0.5})\n",
    "\n",
    "# computing Principal Components\n",
    "pca = PCA()\n",
    "pca.fit(X_train)\n",
    "X_train_new = pca.transform(X_train)\n",
    "print('Variance explained by principal components:', pca.explained_variance_ratio_)"
   ]
  },
  {
   "cell_type": "markdown",
   "metadata": {},
   "source": [
    "#### Analysis \n",
    "It can be seen that there isn't much correlation among variables and variance explained by individual principal components is not significatnt as the highest amount variance explained is only 33%. So using PCA will not necessarily simplify the visualization paradigm."
   ]
  },
  {
   "cell_type": "markdown",
   "metadata": {},
   "source": [
    "# Logistic Regression"
   ]
  },
  {
   "cell_type": "markdown",
   "metadata": {},
   "source": [
    "Looking at the problem definition of identifying bots vs. humans, it can be seen that it is a binary classification problem. Therefore **Logistic Regression** classification model is used."
   ]
  },
  {
   "cell_type": "code",
   "execution_count": 51,
   "metadata": {},
   "outputs": [
    {
     "name": "stdout",
     "output_type": "stream",
     "text": [
      "C : 1e-06 \t\t Score: 0.735042735042735\n",
      "C : 1e-05 \t\t Score: 0.8603988603988605\n",
      "C : 0.0001 \t\t Score: 0.8119658119658121\n",
      "C : 0.001 \t\t Score: 0.7041420118343196\n",
      "C : 0.01 \t\t Score: 0.8550295857988167\n",
      "C : 0.1 \t\t Score: 0.7692307692307693\n",
      "C : 1 \t\t Score: 0.7751479289940829\n",
      "C : 10.0 \t\t Score: 0.7662721893491125\n",
      "C : 100.0 \t\t Score: 0.7958579881656807\n",
      "C : 1000.0 \t\t Score: 0.8184615384615385\n",
      "Best C value is  1e-05\n"
     ]
    }
   ],
   "source": [
    "# seeting up the inverse of regularization parameter\n",
    "C_arr = [1e-6, 1e-5, 1e-4, 1e-3, 1e-2, 1e-1, 1, 1e1, 1e2, 1e3, 1e4, 1e5, 1e6]\n",
    "\n",
    "# Using CrossValidation to choose best 'C'\n",
    "logreg = LogisticRegressionCV(Cs = C_arr, cv = 10, scoring = 'accuracy')\n",
    "logreg.fit(X_train.values, y_train['bot'].values)\n",
    "yes_class_scores = logreg.scores_['yes']\n",
    "yes_class_scores, no_class_scores = np.mean(yes_class_scores, axis = 1), 1 - np.mean(yes_class_scores, axis = 1)\n",
    "\n",
    "for c_val, score_val in zip(C_arr, yes_class_scores):\n",
    "    print('C :', c_val, '\\t\\t', 'Score:', score_val)\n",
    "\n",
    "best_C = C_arr[np.argmax(yes_class_scores)]\n",
    "print('Best C value is ', best_C)"
   ]
  },
  {
   "cell_type": "markdown",
   "metadata": {},
   "source": [
    "Train the model with best **$C$** and test the same on test set"
   ]
  },
  {
   "cell_type": "code",
   "execution_count": 44,
   "metadata": {},
   "outputs": [
    {
     "name": "stdout",
     "output_type": "stream",
     "text": [
      "Logistic Regression Accuracy Score:  0.8787878787878788\n"
     ]
    }
   ],
   "source": [
    "# train the model with best C and predict on test set\n",
    "logreg = LogisticRegression(C = best_C, random_state = 12345)\n",
    "logreg.fit(X_train.values, y_train['bot'].values)\n",
    "y_test_pred = logreg.predict(X_test.values)\n",
    "acc = accuracy_score(y_test_pred, y_test['bot'].values)\n",
    "print('Logistic Regression Accuracy Score: ', acc)"
   ]
  },
  {
   "cell_type": "markdown",
   "metadata": {},
   "source": [
    "#### Analysis\n",
    "Logistic Regression model's test set accuracy is $87.87$%"
   ]
  },
  {
   "cell_type": "markdown",
   "metadata": {},
   "source": [
    "# Random Forests"
   ]
  },
  {
   "cell_type": "markdown",
   "metadata": {},
   "source": [
    "To fit Random Forests model, we need to \n",
    "1. Crossvalidate on depth of trees\n",
    "2. Determine the number of trees to generate so as to form a forest"
   ]
  },
  {
   "cell_type": "code",
   "execution_count": 54,
   "metadata": {},
   "outputs": [
    {
     "data": {
      "image/png": "[encoded data removed]",
      "text/plain": [
       "<Figure size 432x288 with 1 Axes>"
      ]
     },
     "metadata": {},
     "output_type": "display_data"
    },
    {
     "data": {
      "image/png": "[encoded data removed]",
      "text/plain": [
       "<Figure size 432x288 with 1 Axes>"
      ]
     },
     "metadata": {},
     "output_type": "display_data"
    },
    {
     "data": {
      "image/png": "[encoded data removed]",
      "text/plain": [
       "<Figure size 432x288 with 1 Axes>"
      ]
     },
     "metadata": {},
     "output_type": "display_data"
    },
    {
     "data": {
      "image/png": "[encoded data removed]",
      "text/plain": [
       "<Figure size 432x288 with 1 Axes>"
      ]
     },
     "metadata": {},
     "output_type": "display_data"
    },
    {
     "data": {
      "image/png": "[encoded data removed]",
      "text/plain": [
       "<Figure size 432x288 with 1 Axes>"
      ]
     },
     "metadata": {},
     "output_type": "display_data"
    }
   ],
   "source": [
    "# depths (2, 3, 4, 6)\n",
    "depths = np.arange(2, 7)\n",
    "\n",
    "# no. of trees = 100\n",
    "nTrees = np.arange(2, 101)\n",
    "\n",
    "for depth in depths:    \n",
    "    \n",
    "    # instantiate RandomForestClassifier\n",
    "    rf = RandomForestClassifier(max_depth = depth, random_state = 12345)\n",
    "    \n",
    "    # generate training, validation sets and their scores\n",
    "    train_scores, valid_scores = validation_curve(rf, \n",
    "                                                  X_train.values, \n",
    "                                                  y_train['bot'].values, \n",
    "                                                  param_name = 'n_estimators', \n",
    "                                                  param_range = nTrees, \n",
    "                                                  scoring = 'accuracy')\n",
    "\n",
    "    # we not have a 100 x 3 scores matrix -- average the scores row-wise\n",
    "    train_scores = np.mean(train_scores, axis = 1)\n",
    "    valid_scores = np.mean(valid_scores, axis = 1)\n",
    "        \n",
    "    # plot training and validation curves\n",
    "    plt.plot(nTrees, train_scores, 'r-', alpha = 0.4, label = 'training')\n",
    "    plt.plot(nTrees, valid_scores, 'b-', alpha = 0.4, label = 'validation')\n",
    "    plt.xlabel('Number of Trees')\n",
    "    plt.ylabel('Accuracy')\n",
    "    plt.legend(loc = 'lower right')\n",
    "    title_str = '#Trees vs. Accuracy for Depth ' + str(depth)\n",
    "    plt.title(title_str)\n",
    "    plt.show()"
   ]
  },
  {
   "cell_type": "markdown",
   "metadata": {},
   "source": [
    "Choosing $depth$ = $4$"
   ]
  },
  {
   "cell_type": "code",
   "execution_count": 56,
   "metadata": {},
   "outputs": [
    {
     "name": "stdout",
     "output_type": "stream",
     "text": [
      "Random Forest Accuracy Score:  0.9242424242424242\n"
     ]
    }
   ],
   "source": [
    "# From the graphs plotted, it can be seen that\n",
    "# depth = 4\n",
    "# nTrees = 100\n",
    "# should do\n",
    "    \n",
    "# Prediction on test set using Random Forests\n",
    "depth = 4\n",
    "nTrees = 100\n",
    "rf = RandomForestClassifier(n_estimators = nTrees, max_depth = depth, random_state = 12345)\n",
    "rf.fit(X_train.values, y_train['bot'].values) \n",
    "y_test_pred = rf.predict(X_test.values)  \n",
    "acc = accuracy_score(y_test['bot'].values, y_test_pred) \n",
    "print('Random Forest Accuracy Score: ', acc)"
   ]
  },
  {
   "cell_type": "markdown",
   "metadata": {},
   "source": [
    "#### Analysis\n",
    "Random Forest's test set accuracy score is 92.42%"
   ]
  },
  {
   "cell_type": "markdown",
   "metadata": {},
   "source": [
    "# AdaBoost Classifier"
   ]
  },
  {
   "cell_type": "markdown",
   "metadata": {},
   "source": [
    "Let's check if boosting can produce a better classification accuracy. <br>\n",
    "Random Forests is chosen as base classifier for AdaBoost. Learning rate for $AdaBoost$ must be cross-validated!"
   ]
  },
  {
   "cell_type": "code",
   "execution_count": 58,
   "metadata": {},
   "outputs": [
    {
     "data": {
      "image/png": "[encoded data removed]",
      "text/plain": [
       "<Figure size 432x288 with 1 Axes>"
      ]
     },
     "metadata": {},
     "output_type": "display_data"
    }
   ],
   "source": [
    "# AdaBoost to enhance the model even further\n",
    "# Base classifier is Random Forests\n",
    "\n",
    "# instantiate Random Forests classifier\n",
    "rf = RandomForestClassifier(n_estimators = 100,\n",
    "                            max_depth = 4,\n",
    "\t\t\t                random_state = 12345)\n",
    "\n",
    "# learning rate needs to be derived using iterations\n",
    "lrate_arr = [0.001, 0.005, 0.01, 0.05, 0.1, 0.5, 1.0]\n",
    "acc_scores = []\n",
    "\n",
    "for lrate in lrate_arr:\n",
    "    \n",
    "    # instantiate AdaBoostClassifier\n",
    "    adaboost = AdaBoostClassifier(base_estimator = rf, \n",
    "\t\t\t\t  learning_rate = lrate,\n",
    "\t\t\t\t  random_state = 12345)\n",
    "    temp = []\n",
    "\n",
    "    # perform crossvalidation\n",
    "    kf = KFold(n_splits = 10, shuffle = True)\n",
    "    \n",
    "    for train_idx, valid_idx in kf.split(X_train):\n",
    "        \n",
    "        train_set_X, valid_set_X = X_train.iloc[train_idx], X_train.iloc[valid_idx]\n",
    "        train_set_y, valid_set_y = y_train.iloc[train_idx], y_train.iloc[valid_idx]\n",
    "        \n",
    "        adaboost.fit(train_set_X.values, train_set_y['bot'].values)\n",
    "        y_pred = adaboost.predict(valid_set_X.values)\n",
    "            \n",
    "        # get accuracy scores\n",
    "        acc = accuracy_score(y_pred, valid_set_y['bot'].values)\n",
    "        temp.append(acc)\n",
    "        \n",
    "    acc_scores.append(np.mean(temp))\n",
    "\n",
    "# plot 'accuracy scores' as a function of 'learning rate'\n",
    "plt.plot(lrate_arr, acc_scores, 'r-', alpha = 0.4, label = 'accuracy')\n",
    "plt.xlabel('Learning Rate')\n",
    "plt.ylabel('Accuracy Score')\n",
    "plt.title('Choosing \\'Learning Rate\\' Using Crossvalidation')\n",
    "plt.legend(loc = 'lower right')\n",
    "plt.show()        "
   ]
  },
  {
   "cell_type": "markdown",
   "metadata": {},
   "source": [
    "Using the 10-fold Crossvalidation and using $Accuracy$ score as the metric of measure, it can be seen that model performs  better at $learning$ $rate$ of $0.01$. Therefore, at tree $depth$ of 4 and $learning$ $rate$ of 0.01 and 100 trees to be sampled, AdaBoost classifier is used to predict on test set"
   ]
  },
  {
   "cell_type": "code",
   "execution_count": 59,
   "metadata": {},
   "outputs": [
    {
     "name": "stdout",
     "output_type": "stream",
     "text": [
      "AdaBoostClassifier Accuracy: 0.9242424242424242\n"
     ]
    }
   ],
   "source": [
    "        \n",
    "# learning rate is therefore best set at 0.01\n",
    "# Instantiate AdaBoostClassifier at 'learning_rate' of '0.01' with RandomForest as base classifier\n",
    "# Train and test the classifier\n",
    "adaboost = AdaBoostClassifier(base_estimator = rf,\n",
    "\t\t\t      n_estimators = 100, \n",
    "\t\t\t      learning_rate = 0.01,\n",
    "\t\t\t      random_state = 12345)\n",
    "adaboost.fit(X_train.values, y_train['bot'].values)\n",
    "y_pred = adaboost.predict(X_test.values)\n",
    "acc = accuracy_score(y_pred, y_test['bot'].values)\n",
    "print('AdaBoostClassifier Accuracy:', acc)"
   ]
  },
  {
   "cell_type": "markdown",
   "metadata": {},
   "source": [
    "#### Analysis\n",
    "Random Forest's test set accuracy score is 92.42%"
   ]
  },
  {
   "cell_type": "markdown",
   "metadata": {},
   "source": [
    "## Classification Analysis"
   ]
  },
  {
   "cell_type": "markdown",
   "metadata": {},
   "source": [
    "In conclusion it can be seen that the accuracy scores in classifying bots vs. humans is 92%. It is achieved using both $Random Forests$ and $AdaBoost$. It can be speculated that $AdaBoost$ might perform better when $learning rate$ and number of trees Random Forest relies on are better sampled."
   ]
  },
  {
   "cell_type": "markdown",
   "metadata": {},
   "source": [
    "# Topic Modeling"
   ]
  },
  {
   "cell_type": "markdown",
   "metadata": {},
   "source": [
    "In this section, we will be looking at modeling topics i.e. identify the topics that were made as part of bot and human tweets. Also, we will be using tweet specific attributes from Section II. Natural language processing and text analysis are done to achieve _Topic Modeling_."
   ]
  },
  {
   "cell_type": "markdown",
   "metadata": {},
   "source": [
    "#### Preparing the data"
   ]
  },
  {
   "cell_type": "code",
   "execution_count": 63,
   "metadata": {},
   "outputs": [
    {
     "name": "stdout",
     "output_type": "stream",
     "text": [
      "No. of human made tweets 34710\n",
      "No. of bot made tweets 8013\n"
     ]
    }
   ],
   "source": [
    "# check the class distribution\n",
    "bot_tweets = df_tweet[df_tweet['bot'] == 1].reset_index(drop = True)\n",
    "bot_tweets['bot'] = 'yes'\n",
    "human_tweets = df_tweet[df_tweet['bot'] == 0].reset_index(drop = True)\n",
    "human_tweets['bot'] = 'no'\n",
    "\n",
    "print('No. of human made tweets', human_tweets.shape[0])\n",
    "print('No. of bot made tweets', bot_tweets.shape[0])"
   ]
  },
  {
   "cell_type": "markdown",
   "metadata": {},
   "source": [
    "Sampling the data to remove the  **Class-Imbalance Problem**"
   ]
  },
  {
   "cell_type": "code",
   "execution_count": 70,
   "metadata": {},
   "outputs": [],
   "source": [
    "# preventing class imbalance problem by subsampling equal number of human tweets as bots'\n",
    "human_tweets = human_tweets.iloc[np.arange(bot_tweets.shape[0])]\n",
    "\n",
    "# merging tweets together \n",
    "tweets_modif = pd.concat([bot_tweets, human_tweets])\n",
    "tweets_modif = tweets_modif.sample(frac = 1, random_state = 12345).reset_index(drop = True)"
   ]
  },
  {
   "cell_type": "markdown",
   "metadata": {},
   "source": [
    "#### Text Processing"
   ]
  },
  {
   "cell_type": "markdown",
   "metadata": {},
   "source": [
    "As part of text-processing, we have\n",
    "1. Removed punctuation\n",
    "2. Removed numbers\n",
    "3. Removed stopwords\n",
    "4. Converted all characters to lower-case\n",
    "5. Performed $Lemmatization$"
   ]
  },
  {
   "cell_type": "markdown",
   "metadata": {},
   "source": [
    "Note that _**Natural Language Tool Kit**_ has been used to perform $Lemmatization$. "
   ]
  },
  {
   "cell_type": "code",
   "execution_count": 71,
   "metadata": {},
   "outputs": [],
   "source": [
    "# text processing\n",
    "tweets = tweets_modif['text'].tolist()\n",
    "tweets_class = tweets_modif['bot']\n",
    "punct = list(set(string.punctuation))\n",
    "punct.remove('@')\n",
    "punct.remove('#')\n",
    "punct.append('\\'')\n",
    "punct.append('\"')\n",
    "numbers = ['1', '2', '3', '4', '5', '6', '7', '8', '9', '0']\n",
    "hashtags = []\n",
    "tweets_copy = []\n",
    "stop_w = set(stopwords.words('english'))\n",
    "lemmatizer = WordNetLemmatizer()\n",
    "\n",
    "for i in range(len(tweets)):\n",
    "    \n",
    "    # change everything to lower case\n",
    "    tweets[i] = str(tweets[i]).lower()  \n",
    "    \n",
    "    # remove URLs\n",
    "    # https://stackoverflow.com/a/11332580/7551231\n",
    "    tweets[i] = re.sub(r\"https\\S+\", \"\", tweets[i])\n",
    "    \n",
    "    # removing stopwords (before punctuation removal)\n",
    "    tweets[i] = \" \".join(w for w in tweets[i].split() if w.strip() not in stop_w)\n",
    "    \n",
    "    # removing punctuation \n",
    "    tweets[i] = re.sub('[\"\\']', '', tweets[i])    \n",
    "    tweets[i] = \"\".join(ch for ch in tweets[i] if ch not in punct)\n",
    "\n",
    "    # removing words that start with '@' as they are usernames\n",
    "    # also, remving 'rt' word    \n",
    "    tweets[i] = \" \".join(w for w in tweets[i].split() if not re.match(r'^@', w) and not re.match(r'rt', w))\n",
    "    hashtags.extend(list(re.sub('#', '', w) for w in tweets[i].split() if re.match(r'^#', w)))    \n",
    "    tweets[i] = re.sub(r'#', '', tweets[i])\n",
    "                                \n",
    "    # removing numbers\n",
    "    tweets[i] = \"\".join(ch for ch in tweets[i] if ch not in numbers)            \n",
    "    \n",
    "    # removing stopwords (after punctuation removal)\n",
    "    tweets[i] = \" \".join(w for w in tweets[i].split() if w.strip() not in stop_w)\n",
    "          \n",
    "    # Lemmatization is preferred over stemming although it is slow    \n",
    "    pos_tag_tweets = pos_tag(word_tokenize(tweets[i]))       \n",
    "    lemma_tweets = []    \n",
    "    for word, tag in pos_tag_tweets:        \n",
    "        tag_lower = tag[0].lower()\n",
    "        tag_lower = tag_lower if tag_lower in ['a', 'r', 'n', 'l'] else None        \n",
    "        lemma_tweets.append(lemmatizer.lemmatize(word, tag_lower) if tag_lower else word)\n",
    "        \n",
    "    # finally creating an array of words for every document\n",
    "    tweets[i] = ' '.join(lemma_tweets)"
   ]
  },
  {
   "cell_type": "markdown",
   "metadata": {},
   "source": [
    "#### Term Frequency - Inverse Document Frequency (TF-IDF)"
   ]
  },
  {
   "cell_type": "code",
   "execution_count": 77,
   "metadata": {},
   "outputs": [],
   "source": [
    "# performing topic modelling using Latent Dirichlet Allocation\n",
    "# get TF-IDF for the text documents\n",
    "tfidf = TfidfVectorizer(norm = 'l2')\n",
    "tfidf_matrix = tfidf.fit_transform(tweets)\n",
    "feature_names = tfidf.get_feature_names()"
   ]
  },
  {
   "cell_type": "markdown",
   "metadata": {},
   "source": [
    "#### Topic modeling using _Latent Dirichlet Allocation (LDA)_"
   ]
  },
  {
   "cell_type": "markdown",
   "metadata": {},
   "source": [
    "Here, we will be highlighting the top 20 topics that describe the tweets"
   ]
  },
  {
   "cell_type": "code",
   "execution_count": 78,
   "metadata": {},
   "outputs": [
    {
     "name": "stdout",
     "output_type": "stream",
     "text": [
      "==============================================\n",
      "topic:  0\n",
      "funny pie catfish truth cheer maryland spring regarding firefighter defend\n",
      "==============================================\n",
      "topic:  1\n",
      "de fearfactor el round sweet en la tesla favorite thing\n",
      "==============================================\n",
      "topic:  2\n",
      "html nbadunkweek season dunk top bestofnba cs powerful wtd agree\n",
      "==============================================\n",
      "topic:  3\n",
      "judge policy influencer super ep kavanaugh kbsworld image battle bootstrap\n",
      "==============================================\n",
      "topic:  4\n",
      "eaten probably driving summit cry paper care seriously nfl slide\n",
      "==============================================\n",
      "topic:  5\n",
      "ban wolf legend directed workflow earned wins acting sharkweek golang\n",
      "==============================================\n",
      "topic:  6\n",
      "lt seems isn fishing gt lol benchmark mustread keeping agriculture\n",
      "==============================================\n",
      "topic:  7\n",
      "hero inspiring pa location stuff mindset music privilege importance animal\n",
      "==============================================\n",
      "topic:  8\n",
      "accidentalhaiku fallontonight patient character founder thi stopping pinterest blue gift\n",
      "==============================================\n",
      "topic:  9\n",
      "marvel studio infinitywar العربيةعاجل ticket في habit okay theater mypov\n",
      "==============================================\n",
      "topic:  10\n",
      "gamedev indiedev instant available netflix indiegame tvma movie gamer pixelart\n",
      "==============================================\n",
      "topic:  11\n",
      "fiverr check riponthewebguy wordpress install php issue create web programming\n",
      "==============================================\n",
      "topic:  12\n",
      "new via great thanks amp today one day us time\n",
      "==============================================\n",
      "topic:  13\n",
      "cool omg tbt natural noletup commander espy sponsor praying vida\n",
      "==============================================\n",
      "topic:  14\n",
      "joined mike ya pleasure ok listening allow esports champion writer\n",
      "==============================================\n",
      "topic:  15\n",
      "programmingurus edge sending banking reposting nature australia adam shift indeed\n",
      "==============================================\n",
      "topic:  16\n",
      "di reputation dan yang happiness illinois il ten wan reputaylurking\n",
      "==============================================\n",
      "topic:  17\n",
      "bong yes sir testing awesome extension tracking attract queen fragment\n",
      "==============================================\n",
      "topic:  18\n",
      "trust mandolindy guess staff johnson nyc sec charge heading ends\n",
      "==============================================\n",
      "topic:  19\n",
      "contentmarketing marketing reality socialmedia content potential virtual classic audience visual\n"
     ]
    }
   ],
   "source": [
    "# Perform LDA\n",
    "lda = LatentDirichletAllocation(n_components = 20,\n",
    "                                max_iter=5,\n",
    "                                learning_method='online',\n",
    "                                learning_offset=50.,\n",
    "                                random_state=0)\n",
    "\n",
    "feature_names = tfidf.get_feature_names()\n",
    "topics_retrieved = lda.fit_transform(tfidf_matrix)\n",
    "n_top_words = 10\n",
    "\n",
    "for topic_idx, topic in enumerate(lda.components_):\n",
    "    print('==============================================')    \n",
    "    print('topic: ', topic_idx)\n",
    "    print(' '.join([feature_names[i] for i in topic.argsort()[:-n_top_words-1:-1]]))"
   ]
  },
  {
   "cell_type": "markdown",
   "metadata": {},
   "source": [
    "#### Analysis\n"
   ]
  },
  {
   "cell_type": "markdown",
   "metadata": {},
   "source": [
    "To understand what these topics mean, let us look at $topic$ $9$. <br> Topic - 9 highlights the keywords $theater$, $studio$, $marvel$, $infinitywar$. It can be seen that these all keywords are in a way representative of an abstract topic. We can perceive the abtsract topic here as $MOVIE$. Again, it is left to user's understanding and line of though to establish a relationship with any paradigm. <br>\n",
    "Also, _topic 19_ can be easily perceived as an abstraction of $Marketing$."
   ]
  },
  {
   "cell_type": "markdown",
   "metadata": {},
   "source": [
    "# CONCLUSION"
   ]
  },
  {
   "cell_type": "markdown",
   "metadata": {},
   "source": [
    "In conclusion, we have seen that\n",
    "1. $Bots$ and $Humans$ can be mathematically and computationally identified and seperated using Machine Learning techniques and data analysis.\n",
    "2. We have also seen how topic modelling is done using natural language processing techniques and how keywords from documents (tweets) can be grouped together to abstract a topic."
   ]
  }
 ],
 "metadata": {
  "kernelspec": {
   "display_name": "Python 3",
   "language": "python",
   "name": "python3"
  },
  "language_info": {
   "codemirror_mode": {
    "name": "ipython",
    "version": 3
   },
   "file_extension": ".py",
   "mimetype": "text/x-python",
   "name": "python",
   "nbconvert_exporter": "python",
   "pygments_lexer": "ipython3",
   "version": "3.6.5"
  }
 },
 "nbformat": 4,
 "nbformat_minor": 2
}
